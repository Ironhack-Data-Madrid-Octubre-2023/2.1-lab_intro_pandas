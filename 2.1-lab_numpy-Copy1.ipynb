{
 "cells": [
  {
   "cell_type": "markdown",
   "id": "c6d27288",
   "metadata": {},
   "source": [
    "#1. Import the NUMPY package under the name np."
   ]
  },
  {
   "cell_type": "code",
   "execution_count": 1,
   "id": "ef8bd8d5",
   "metadata": {},
   "outputs": [],
   "source": [
    "import numpy as np"
   ]
  },
  {
   "cell_type": "code",
   "execution_count": 2,
   "id": "a6ab88d9",
   "metadata": {},
   "outputs": [
    {
     "name": "stdout",
     "output_type": "stream",
     "text": [
      "1.23.5\n"
     ]
    }
   ],
   "source": [
    "#2. Print the NUMPY version and the configuration.\n",
    "print(np.__version__)"
   ]
  },
  {
   "cell_type": "code",
   "execution_count": 3,
   "id": "0591f5ff",
   "metadata": {},
   "outputs": [
    {
     "data": {
      "text/plain": [
       "array([[[0.77789236, 0.0873179 , 0.7545056 , 0.29022305, 0.75144619],\n",
       "        [0.26716125, 0.8373273 , 0.01669333, 0.94590862, 0.00895691],\n",
       "        [0.17940974, 0.35608776, 0.48235769, 0.30446656, 0.34272638]],\n",
       "\n",
       "       [[0.91703912, 0.41412384, 0.66245108, 0.86098366, 0.79489409],\n",
       "        [0.59768357, 0.40361297, 0.42343868, 0.08024014, 0.91967657],\n",
       "        [0.16344755, 0.77584247, 0.46123428, 0.2812569 , 0.3594186 ]]])"
      ]
     },
     "execution_count": 3,
     "metadata": {},
     "output_type": "execute_result"
    }
   ],
   "source": [
    "#3. Generate a 2x3x5 3-dimensional array with random values. Assign the array to variable \"a\"\n",
    "# Challenge: there are at least three easy ways that use numpy to generate random arrays. How many ways can you find?\n",
    "#a = np.random.random(30)\n",
    "#a = np.random.random((2,3,5))\n",
    "a = np.random.random((2,3,5))\n",
    "a"
   ]
  },
  {
   "cell_type": "code",
   "execution_count": 4,
   "id": "15efadcf",
   "metadata": {},
   "outputs": [
    {
     "data": {
      "text/plain": [
       "array([[[0.3199757 , 0.57828245, 0.97191005],\n",
       "        [0.38506116, 0.03016965, 0.33206416]],\n",
       "\n",
       "       [[0.52675899, 0.86625232, 0.22036292],\n",
       "        [0.56676708, 0.09491048, 0.36534426]],\n",
       "\n",
       "       [[0.16592127, 0.90302653, 0.09304816],\n",
       "        [0.8961783 , 0.91253308, 0.16731005]],\n",
       "\n",
       "       [[0.52473134, 0.14555708, 0.73468485],\n",
       "        [0.04273931, 0.54731718, 0.53389644]],\n",
       "\n",
       "       [[0.08786361, 0.88276129, 0.74904569],\n",
       "        [0.13277235, 0.06463698, 0.4370386 ]]])"
      ]
     },
     "execution_count": 4,
     "metadata": {},
     "output_type": "execute_result"
    }
   ],
   "source": [
    "#5. Create a 5x2x3 3-dimensional array with all values equaling 1.\n",
    "#Assign the array to variable \"b\"\n",
    "b = np.random.random((5,2,3))\n",
    "b"
   ]
  },
  {
   "cell_type": "code",
   "execution_count": 5,
   "id": "7eac7600",
   "metadata": {},
   "outputs": [],
   "source": [
    "#7. Do a and b have the same size? How do you prove that in Python code?\n",
    "#print(a.size)\n",
    "#print(b.size)"
   ]
  },
  {
   "cell_type": "code",
   "execution_count": 6,
   "id": "2f57da22",
   "metadata": {},
   "outputs": [],
   "source": [
    "#8. Are you able to add a and b? Why or why not?\n",
    "#a+b(sumarlo como tal no ya que el numero de filas no coincide con el numero de columnas)\n"
   ]
  },
  {
   "cell_type": "code",
   "execution_count": 7,
   "id": "c17c7fb5",
   "metadata": {},
   "outputs": [],
   "source": [
    "#9. Transpose b so that it has the same structure of a (i.e. become a 2x3x5 array).\n",
    "#Assign the transposed array to varialbe \"c\".\n",
    "c= b.reshape((2,3,5))\n"
   ]
  },
  {
   "cell_type": "code",
   "execution_count": 8,
   "id": "cb138d26",
   "metadata": {},
   "outputs": [],
   "source": [
    "#10. Try to add a and c. Now it should work. Assign the sum to varialbe \"d\". But why does it work now?\n",
    "d=a+c # Ahora funciona por que coincide la cantidad de filas y columnas\n",
    "\n"
   ]
  },
  {
   "cell_type": "code",
   "execution_count": 9,
   "id": "c0464867",
   "metadata": {},
   "outputs": [],
   "source": [
    "#11. Print a and d. Notice the difference and relation of the two array in terms of the values? Explain.\n",
    "#print(a)\n",
    "#print(\"---------------------------------------------------------\")\n",
    "#print(d)"
   ]
  },
  {
   "cell_type": "code",
   "execution_count": 10,
   "id": "6978331c",
   "metadata": {},
   "outputs": [],
   "source": [
    "#12. Multiply a and c. Assign the result to e.\n",
    "e = a*c\n"
   ]
  },
  {
   "cell_type": "code",
   "execution_count": 11,
   "id": "56d4d644",
   "metadata": {},
   "outputs": [],
   "source": [
    "#13. Does e equal to a? Why or why not?\n",
    "# no se si lo estare haciendo mal por que no veo ninguna igualdad entre A y E"
   ]
  },
  {
   "cell_type": "code",
   "execution_count": 53,
   "id": "529eafbe",
   "metadata": {},
   "outputs": [],
   "source": [
    "#14. Identify the max, min, and mean values in d. Assign those values to variables \"d_max\", \"d_min\", and \"d_mean\"\n",
    "d_mean=np.mean(d)\n",
    "d_max = np.max(d)\n",
    "d_min = np.min(d)"
   ]
  },
  {
   "cell_type": "code",
   "execution_count": 51,
   "id": "55913018",
   "metadata": {},
   "outputs": [
    {
     "data": {
      "text/plain": [
       "array([[[0.24890665, 0.05049441, 0.73331157, 0.11175362, 0.02267087],\n",
       "        [0.08871468, 0.44106968, 0.01446063, 0.20844318, 0.00507648],\n",
       "        [0.01702787, 0.13009462, 0.0800334 , 0.27494138, 0.03189006]],\n",
       "\n",
       "       [[0.82183056, 0.37790171, 0.11083472, 0.45178511, 0.11570246],\n",
       "        [0.43910906, 0.01725014, 0.23175527, 0.04283993, 0.08080611],\n",
       "        [0.14428517, 0.58114145, 0.06123916, 0.0181796 , 0.1570798 ]]])"
      ]
     },
     "execution_count": 51,
     "metadata": {},
     "output_type": "execute_result"
    }
   ],
   "source": [
    "#15. Now we want to label the values in d. First create an empty array \"f\" with the same shape (i.e. 2x3x5) as d using `np.empty`.\n",
    "f = np.empty((2,3,5))\n",
    "f"
   ]
  },
  {
   "cell_type": "markdown",
   "id": "a69188b8",
   "metadata": {},
   "source": [
    "#16 Populate the values in f. For each value in d, if it's larger than d_min but smaller than d_mean, assign 25 to the corresponding value in f.\n",
    "If a value in d is larger than d_mean but smaller than d_max, assign 75 to the corresponding value in f.\n",
    "If a value equals to d_mean, assign 50 to the corresponding value in f.\n",
    "Assign 0 to the corresponding value(s) in f for d_min in d.\n",
    "Assign 100 to the corresponding value(s) in f for d_max in d.\n",
    "In the end, f should have only the following values: 0, 25, 50, 75, and 100.\n",
    "Note: you don't have to use Numpy in this question.\"\""
   ]
  },
  {
   "cell_type": "code",
   "execution_count": 55,
   "id": "632bfcdc",
   "metadata": {},
   "outputs": [
    {
     "name": "stdout",
     "output_type": "stream",
     "text": [
      "[[[ 75.  25.  75.  25.  25.]\n",
      "  [ 25.  75.  25.  75.  25.]\n",
      "  [  0.  25.  25.  75.  25.]]\n",
      "\n",
      " [[100.  75.  25.  75.  75.]\n",
      "  [ 75.  25.  75.  25.  75.]\n",
      "  [ 75.  75.  25.  25.  25.]]]\n",
      "[[[1.09786806 0.66560035 1.72641564 0.67528421 0.78161584]\n",
      "  [0.59922541 1.36408629 0.88294565 1.16627154 0.57572399]\n",
      "  [0.27432023 0.72143202 0.64827896 1.20749309 0.43577455]]\n",
      "\n",
      " [[1.81321742 1.32665692 0.82976112 1.385715   0.94045117]\n",
      "  [1.33236841 0.44635228 0.97075586 0.61413658 1.00754018]\n",
      "  [1.04620883 1.52488815 0.59400663 0.34589387 0.7964572 ]]]\n"
     ]
    }
   ],
   "source": [
    "#un compañero me explico esta manera de hacerlo.\n",
    "f[(d > d_min) & (d < d_mean)] = 25\n",
    "f[(d > d_mean) & (d < d_max)] = 75\n",
    "f[(d == d_mean)] = 50\n",
    "f[(d == d_min)] = 0\n",
    "f[(d == d_max)] = 100\n",
    "print(f)\n",
    "print(d)"
   ]
  },
  {
   "cell_type": "code",
   "execution_count": 84,
   "id": "804f9bd0",
   "metadata": {},
   "outputs": [
    {
     "data": {
      "text/plain": [
       "array([[[ 75.,  25.,  75.,  25.,  25.],\n",
       "        [ 25.,  75.,  25.,  75.,  25.],\n",
       "        [  0.,  25.,  25.,  75.,  25.]],\n",
       "\n",
       "       [[100.,  75.,  25.,  75.,  75.],\n",
       "        [ 75.,  25.,  75.,  25.,  75.],\n",
       "        [ 75.,  75.,  25.,  25.,  25.]]])"
      ]
     },
     "execution_count": 84,
     "metadata": {},
     "output_type": "execute_result"
    }
   ],
   "source": [
    "f = np.where((d > d_min) & (d < d_mean), 25, f)\n",
    "f = np.where(d == d_mean, 50, f)\n",
    "f = np.where((d > d_mean) & (d < d_max), 75, f)\n",
    "f = np.where(d == d_min, 0, f)\n",
    "f = np.where(d == d_max, 100, f)\n",
    "f"
   ]
  },
  {
   "cell_type": "markdown",
   "id": "962a4f7d",
   "metadata": {},
   "source": [
    "#18. Bonus question: instead of using numbers (i.e. 0, 25, 50, 75, and 100), how to use string values \n",
    "(\"A\", \"B\", \"C\", \"D\", and \"E\") to label the array elements? You are expecting the result to be:\n",
    "array([[[ 'D',  'D',  'D',  'B',  'D'],\n",
    "        [ 'D',  'D',  'B',  'B',  'B'],\n",
    "        [ 'D',  'B',  'D',  'D',  'D']],\n",
    "\n",
    "       [[ 'B',  'B',  'B',  'B',  'E'],\n",
    "        [ 'D',  'D',  'D',  'D',  'D'],\n",
    "        [ 'B',  'D',   'A',  'D', 'D']]])\n",
    "Again, you don't need Numpy in this question."
   ]
  },
  {
   "cell_type": "code",
   "execution_count": 87,
   "id": "ebd4ebeb",
   "metadata": {},
   "outputs": [
    {
     "data": {
      "text/plain": [
       "array([[['C', 'A', 'C', 'A', 'A'],\n",
       "        ['A', 'C', 'A', 'C', 'A'],\n",
       "        ['D', 'A', 'A', 'C', 'A']],\n",
       "\n",
       "       [['F', 'C', 'A', 'C', 'C'],\n",
       "        ['C', 'A', 'C', 'A', 'C'],\n",
       "        ['C', 'C', 'A', 'A', 'A']]], dtype='<U32')"
      ]
     },
     "execution_count": 87,
     "metadata": {},
     "output_type": "execute_result"
    }
   ],
   "source": [
    "f = np.where((d > d_min) & (d < d_mean), \"A\", f)\n",
    "f = np.where(d == d_mean, \"B\", f)\n",
    "f = np.where((d > d_mean) & (d < d_max), \"C\", f)\n",
    "f = np.where(d == d_min, \"D\", f)\n",
    "f = np.where(d == d_max, \"F\", f)\n",
    "f"
   ]
  },
  {
   "cell_type": "code",
   "execution_count": null,
   "id": "7321e6cd",
   "metadata": {},
   "outputs": [],
   "source": []
  }
 ],
 "metadata": {
  "kernelspec": {
   "display_name": "Python 3 (ipykernel)",
   "language": "python",
   "name": "python3"
  },
  "language_info": {
   "codemirror_mode": {
    "name": "ipython",
    "version": 3
   },
   "file_extension": ".py",
   "mimetype": "text/x-python",
   "name": "python",
   "nbconvert_exporter": "python",
   "pygments_lexer": "ipython3",
   "version": "3.10.9"
  }
 },
 "nbformat": 4,
 "nbformat_minor": 5
}
